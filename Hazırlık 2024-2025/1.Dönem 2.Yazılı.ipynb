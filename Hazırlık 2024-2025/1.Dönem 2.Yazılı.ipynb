{
 "cells": [
  {
   "cell_type": "markdown",
   "metadata": {},
   "source": [
    "1-\tPython’da print komutu ne işe yarar bir örnekle açıklayınız."
   ]
  },
  {
   "cell_type": "code",
   "execution_count": 1,
   "metadata": {},
   "outputs": [
    {
     "name": "stdout",
     "output_type": "stream",
     "text": [
      "Hello World\n"
     ]
    }
   ],
   "source": [
    "print(\"Hello World\")  #print komutu çıktı verme/yazdırma komutudur."
   ]
  },
  {
   "cell_type": "markdown",
   "metadata": {},
   "source": [
    "2-\tAşağıda verilen veri tipleri ne anlama gelir birer örnek ile açıklayınız.\n",
    "\n",
    "-\tInteger:\n",
    "\n",
    "-\tFloat:\n",
    "\n",
    "-\tLong:\n",
    "\n",
    "-\tComplex:\n",
    "\n",
    "-\t.strip :\n"
   ]
  },
  {
   "cell_type": "code",
   "execution_count": null,
   "metadata": {},
   "outputs": [
    {
     "name": "stdout",
     "output_type": "stream",
     "text": [
      "OTOMOTİV LİSESİ\n"
     ]
    }
   ],
   "source": [
    "int = 3, 4, 5, -5, -3   #integer tam sayılar için kullanılır, kod yazarken \"int\" diye kullanılır.\n",
    "\n",
    "float = 3.14 , 2.55 , 3.42    # float dalıklı sayılar için kullanılır, kod yazarken \"float\" diye kullanılır.\n",
    "\n",
    "long = 12345678987654321   #long uzun sayılar için kullanılır, python 3'de kaldırılmıştır.\n",
    "\n",
    "complex = 4+2j    #complex sayılar karmaşık sayılardır, cebir ifadesi içerir.\n",
    "\n",
    "isim = \"     OTOMOTİV LİSESİ        \"\n",
    "print(isim.strip())             # stirp ifadesi değişkenin boşluklarını siler    "
   ]
  },
  {
   "cell_type": "code",
   "execution_count": 7,
   "metadata": {},
   "outputs": [
    {
     "data": {
      "text/plain": [
       "int"
      ]
     },
     "execution_count": 7,
     "metadata": {},
     "output_type": "execute_result"
    }
   ],
   "source": [
    "long_sayi = 128632187469932462198312232143142312312344213*9999999999\n",
    "type(long_sayi)"
   ]
  }
 ],
 "metadata": {
  "kernelspec": {
   "display_name": "Python 3",
   "language": "python",
   "name": "python3"
  },
  "language_info": {
   "codemirror_mode": {
    "name": "ipython",
    "version": 3
   },
   "file_extension": ".py",
   "mimetype": "text/x-python",
   "name": "python",
   "nbconvert_exporter": "python",
   "pygments_lexer": "ipython3",
   "version": "3.13.2"
  }
 },
 "nbformat": 4,
 "nbformat_minor": 2
}
