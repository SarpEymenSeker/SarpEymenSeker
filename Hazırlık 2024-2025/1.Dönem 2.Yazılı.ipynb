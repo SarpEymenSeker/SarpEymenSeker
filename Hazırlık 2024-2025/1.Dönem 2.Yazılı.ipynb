{
 "cells": [
  {
   "cell_type": "markdown",
   "metadata": {},
   "source": [
    "1-\tPython’da print komutu ne işe yarar bir örnekle açıklayınız."
   ]
  },
  {
   "cell_type": "code",
   "execution_count": 37,
   "metadata": {},
   "outputs": [
    {
     "name": "stdout",
     "output_type": "stream",
     "text": [
      "Hello World\n"
     ]
    }
   ],
   "source": [
    "print(\"Hello World\")  #print komutu çıktı verme/yazdırma komutudur."
   ]
  },
  {
   "cell_type": "markdown",
   "metadata": {},
   "source": [
    "2-\tAşağıda verilen veri tipleri ne anlama gelir birer örnek ile açıklayınız.\n",
    "\n",
    "-\tInteger:\n",
    "\n",
    "-\tFloat:\n",
    "\n",
    "-\tLong:\n",
    "\n",
    "-\tComplex:\n",
    "\n",
    "-\t.strip :\n"
   ]
  },
  {
   "cell_type": "code",
   "execution_count": 38,
   "metadata": {},
   "outputs": [
    {
     "name": "stdout",
     "output_type": "stream",
     "text": [
      "OTOMOTİV LİSESİ\n"
     ]
    }
   ],
   "source": [
    "int = 3, 4, 5, -5, -3   #integer tam sayılar için kullanılır, kod yazarken \"int\" diye kullanılır.\n",
    "\n",
    "float = 3.14 , 2.55 , 3.42    # float ondalıklı sayılar için kullanılır, kod yazarken \"float\" diye kullanılır.\n",
    "\n",
    "long = 12345678987654321   #long uzun sayılar için kullanılır, python 3'de kaldırılmıştır.\n",
    "\n",
    "complex = 4+2j    #complex sayılar karmaşık sayılardır, cebir ifadesi içerir.\n",
    "\n",
    "isim = \"     OTOMOTİV LİSESİ        \"\n",
    "print(isim.strip())      # stirp ifadesi değişkenin boşluklarını siler    "
   ]
  },
  {
   "cell_type": "markdown",
   "metadata": {},
   "source": [
    "3-\tisim = “OTOMOTİV LİSESİ”  değişkeninin 4.indexini bulan kodu yazınız."
   ]
  },
  {
   "cell_type": "code",
   "execution_count": 39,
   "metadata": {},
   "outputs": [
    {
     "data": {
      "text/plain": [
       "'O'"
      ]
     },
     "execution_count": 39,
     "metadata": {},
     "output_type": "execute_result"
    }
   ],
   "source": [
    "isim = \"OTOMOTİV LİSESİ\"\n",
    "isim[4]"
   ]
  },
  {
   "cell_type": "markdown",
   "metadata": {},
   "source": [
    "4-\tAşağıda verilen kodların ne anlama geldiğini karşılarına yazınız.\n",
    "\n",
    "-\t.upper() : \n",
    "\n",
    "-\t.lower() : \n",
    "\n",
    "-\t.capitalize() \n"
   ]
  },
  {
   "cell_type": "code",
   "execution_count": 40,
   "metadata": {},
   "outputs": [
    {
     "data": {
      "text/plain": [
       "'OTOMOTIV LISESI'"
      ]
     },
     "execution_count": 40,
     "metadata": {},
     "output_type": "execute_result"
    }
   ],
   "source": [
    "#.upper() değişkenin tüm harflerini büyütür.\n",
    "isim1 = \"otomotiv lisesi\"\n",
    "isim1.upper()\n",
    "\n",
    "\n"
   ]
  },
  {
   "cell_type": "code",
   "execution_count": 41,
   "metadata": {},
   "outputs": [
    {
     "data": {
      "text/plain": [
       "'otomoti̇v li̇sesi̇'"
      ]
     },
     "execution_count": 41,
     "metadata": {},
     "output_type": "execute_result"
    }
   ],
   "source": [
    "#.lower() değişkenin tüm harflerini küçültür.\n",
    "isim2 = \"OTOMOTİV LİSESİ\"\n",
    "isim2.lower()"
   ]
  },
  {
   "cell_type": "code",
   "execution_count": 42,
   "metadata": {},
   "outputs": [
    {
     "data": {
      "text/plain": [
       "'Otomoti̇v li̇sesi̇'"
      ]
     },
     "execution_count": 42,
     "metadata": {},
     "output_type": "execute_result"
    }
   ],
   "source": [
    "#.capitalize() değişkenin ilk harfini büyütür, geri kalanları küçültür.\n",
    "isim3 = \"oTOMOTİV lİSESİ\"\n",
    "isim3.capitalize()"
   ]
  },
  {
   "cell_type": "markdown",
   "metadata": {},
   "source": [
    "5-\tisim = “OTOMOTİV LİSESİ”  değişkeninde “O” harflerinin kaç tane olduğunu yazdıran kodu yazınız."
   ]
  },
  {
   "cell_type": "code",
   "execution_count": 43,
   "metadata": {},
   "outputs": [
    {
     "data": {
      "text/plain": [
       "3"
      ]
     },
     "execution_count": 43,
     "metadata": {},
     "output_type": "execute_result"
    }
   ],
   "source": [
    "isim = \"OTOMOTİV LİSESİ\"\n",
    "isim.count(\"O\")"
   ]
  },
  {
   "cell_type": "markdown",
   "metadata": {},
   "source": [
    "6-\tad=”Cumhuriyet 100 yaşında” değişkeninde 100 yerine 101 yazdırılmak istenmektedir.\n",
    "    Buna göre bunu sağlayacak kodu yazınız."
   ]
  },
  {
   "cell_type": "code",
   "execution_count": 44,
   "metadata": {},
   "outputs": [
    {
     "name": "stdout",
     "output_type": "stream",
     "text": [
      "Cumhuriyet 101 yaşında\n"
     ]
    }
   ],
   "source": [
    "ad = \"Cumhuriyet 100 yaşında\"\n",
    "yeniAd = ad.replace(\"100\",\"101\")\n",
    "print(yeniAd)"
   ]
  },
  {
   "cell_type": "markdown",
   "metadata": {},
   "source": [
    "7-\tad, soyad, yaş ve yaşadığınız şehri birer değişkene tanımlayarak .format() komutu ile yazdırınız."
   ]
  },
  {
   "cell_type": "code",
   "execution_count": 49,
   "metadata": {},
   "outputs": [
    {
     "ename": "TypeError",
     "evalue": "'tuple' object is not callable",
     "output_type": "error",
     "traceback": [
      "\u001b[1;31m---------------------------------------------------------------------------\u001b[0m",
      "\u001b[1;31mTypeError\u001b[0m                                 Traceback (most recent call last)",
      "Cell \u001b[1;32mIn[49], line 3\u001b[0m\n\u001b[0;32m      1\u001b[0m ad \u001b[38;5;241m=\u001b[39m \u001b[38;5;28minput\u001b[39m(\u001b[38;5;124m\"\u001b[39m\u001b[38;5;124mAdinizi giriniz: \u001b[39m\u001b[38;5;124m\"\u001b[39m)\n\u001b[0;32m      2\u001b[0m soyad \u001b[38;5;241m=\u001b[39m \u001b[38;5;28minput\u001b[39m(\u001b[38;5;124m\"\u001b[39m\u001b[38;5;124mSoyadinizi giriniz: \u001b[39m\u001b[38;5;124m\"\u001b[39m)\n\u001b[1;32m----> 3\u001b[0m yas \u001b[38;5;241m=\u001b[39m \u001b[38;5;28;43mint\u001b[39;49m\u001b[43m(\u001b[49m\u001b[38;5;28;43minput\u001b[39;49m\u001b[43m(\u001b[49m\u001b[38;5;124;43m\"\u001b[39;49m\u001b[38;5;124;43mYasinizi giriniz: \u001b[39;49m\u001b[38;5;124;43m\"\u001b[39;49m\u001b[43m)\u001b[49m\u001b[43m)\u001b[49m\n\u001b[0;32m      4\u001b[0m sehir \u001b[38;5;241m=\u001b[39m \u001b[38;5;28minput\u001b[39m(\u001b[38;5;124m\"\u001b[39m\u001b[38;5;124mSehrinizi giriniz: \u001b[39m\u001b[38;5;124m\"\u001b[39m)\n\u001b[0;32m      5\u001b[0m \u001b[38;5;28mprint\u001b[39m(\u001b[38;5;124m\"\u001b[39m\u001b[38;5;124mBen \u001b[39m\u001b[38;5;132;01m{}\u001b[39;00m\u001b[38;5;124m \u001b[39m\u001b[38;5;132;01m{}\u001b[39;00m\u001b[38;5;124m, \u001b[39m\u001b[38;5;132;01m{}\u001b[39;00m\u001b[38;5;124m yasindayim ve \u001b[39m\u001b[38;5;132;01m{}\u001b[39;00m\u001b[38;5;124m'\u001b[39m\u001b[38;5;124mda yasiyorum.\u001b[39m\u001b[38;5;124m\"\u001b[39m\u001b[38;5;241m.\u001b[39mformat(ad,soyad,yas,sehir))\n",
      "\u001b[1;31mTypeError\u001b[0m: 'tuple' object is not callable"
     ]
    }
   ],
   "source": [
    "ad = input(\"Adinizi giriniz: \")\n",
    "soyad = input(\"Soyadinizi giriniz: \")\n",
    "yas = int(input(\"Yasinizi giriniz: \"))\n",
    "sehir = input(\"Sehrinizi giriniz: \")\n",
    "print(\"Ben {} {}, {} yasindayim ve {}'da yasiyorum.\".format(ad,soyad,yas,sehir))"
   ]
  }
 ],
 "metadata": {
  "kernelspec": {
   "display_name": "Python 3",
   "language": "python",
   "name": "python3"
  },
  "language_info": {
   "codemirror_mode": {
    "name": "ipython",
    "version": 3
   },
   "file_extension": ".py",
   "mimetype": "text/x-python",
   "name": "python",
   "nbconvert_exporter": "python",
   "pygments_lexer": "ipython3",
   "version": "3.13.2"
  }
 },
 "nbformat": 4,
 "nbformat_minor": 2
}
