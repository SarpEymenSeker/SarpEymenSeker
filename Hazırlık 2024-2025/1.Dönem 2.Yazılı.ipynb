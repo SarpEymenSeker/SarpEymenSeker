{
 "cells": [
  {
   "cell_type": "markdown",
   "metadata": {},
   "source": [
    "1-\tPython’da print komutu ne işe yarar bir örnekle açıklayınız."
   ]
  },
  {
   "cell_type": "code",
   "execution_count": 2,
   "metadata": {},
   "outputs": [
    {
     "name": "stdout",
     "output_type": "stream",
     "text": [
      "Hello World\n"
     ]
    }
   ],
   "source": [
    "print(\"Hello World\")  #print komutu çıktı verme/yazdırma komutudur."
   ]
  },
  {
   "cell_type": "markdown",
   "metadata": {},
   "source": [
    "2-\tAşağıda verilen veri tipleri ne anlama gelir birer örnek ile açıklayınız.\n",
    "\n",
    "-\tInteger:\n",
    "\n",
    "-\tFloat:\n",
    "\n",
    "-\tLong:\n",
    "\n",
    "-\tComplex:\n",
    "\n",
    "-\t.strip :\n"
   ]
  },
  {
   "cell_type": "code",
   "execution_count": 3,
   "metadata": {},
   "outputs": [
    {
     "name": "stdout",
     "output_type": "stream",
     "text": [
      "OTOMOTİV LİSESİ\n"
     ]
    }
   ],
   "source": [
    "int = 3, 4, 5, -5, -3   #integer tam sayılar için kullanılır, kod yazarken \"int\" diye kullanılır.\n",
    "\n",
    "float = 3.14 , 2.55 , 3.42    # float ondalıklı sayılar için kullanılır, kod yazarken \"float\" diye kullanılır.\n",
    "\n",
    "long = 12345678987654321   #long uzun sayılar için kullanılır, python 3'de kaldırılmıştır.\n",
    "\n",
    "complex = 4+2j    #complex sayılar karmaşık sayılardır, cebir ifadesi içerir.\n",
    "\n",
    "isim = \"     OTOMOTİV LİSESİ        \"\n",
    "print(isim.strip())      # stirp ifadesi değişkenin boşluklarını siler    "
   ]
  },
  {
   "cell_type": "markdown",
   "metadata": {},
   "source": [
    "3-\tisim = “OTOMOTİV LİSESİ”  değişkeninin 4.indexini bulan kodu yazınız."
   ]
  },
  {
   "cell_type": "code",
   "execution_count": 4,
   "metadata": {},
   "outputs": [
    {
     "data": {
      "text/plain": [
       "'O'"
      ]
     },
     "execution_count": 4,
     "metadata": {},
     "output_type": "execute_result"
    }
   ],
   "source": [
    "isim = \"OTOMOTİV LİSESİ\"\n",
    "isim[4]"
   ]
  },
  {
   "cell_type": "markdown",
   "metadata": {},
   "source": [
    "4-\tAşağıda verilen kodların ne anlama geldiğini karşılarına yazınız.\n",
    "\n",
    "-\t.upper() : \n",
    "\n",
    "-\t.lower() : \n",
    "\n",
    "-\t.capitalize() \n"
   ]
  },
  {
   "cell_type": "code",
   "execution_count": 5,
   "metadata": {},
   "outputs": [
    {
     "data": {
      "text/plain": [
       "'OTOMOTIV LISESI'"
      ]
     },
     "execution_count": 5,
     "metadata": {},
     "output_type": "execute_result"
    }
   ],
   "source": [
    "#.upper() değişkenin tüm harflerini büyütür.\n",
    "isim1 = \"otomotiv lisesi\"\n",
    "isim1.upper()\n",
    "\n",
    "\n"
   ]
  },
  {
   "cell_type": "code",
   "execution_count": 6,
   "metadata": {},
   "outputs": [
    {
     "data": {
      "text/plain": [
       "'otomoti̇v li̇sesi̇'"
      ]
     },
     "execution_count": 6,
     "metadata": {},
     "output_type": "execute_result"
    }
   ],
   "source": [
    "#.lower() değişkenin tüm harflerini küçültür.\n",
    "isim2 = \"OTOMOTİV LİSESİ\"\n",
    "isim2.lower()"
   ]
  },
  {
   "cell_type": "code",
   "execution_count": 7,
   "metadata": {},
   "outputs": [
    {
     "data": {
      "text/plain": [
       "'Otomoti̇v li̇sesi̇'"
      ]
     },
     "execution_count": 7,
     "metadata": {},
     "output_type": "execute_result"
    }
   ],
   "source": [
    "#.capitalize() değişkenin ilk harfini büyütür, geri kalanları küçültür.\n",
    "isim3 = \"oTOMOTİV lİSESİ\"\n",
    "isim3.capitalize()"
   ]
  },
  {
   "cell_type": "markdown",
   "metadata": {},
   "source": [
    "5-\tisim = “OTOMOTİV LİSESİ”  değişkeninde “O” harflerinin kaç tane olduğunu yazdıran kodu yazınız."
   ]
  },
  {
   "cell_type": "code",
   "execution_count": 8,
   "metadata": {},
   "outputs": [
    {
     "data": {
      "text/plain": [
       "3"
      ]
     },
     "execution_count": 8,
     "metadata": {},
     "output_type": "execute_result"
    }
   ],
   "source": [
    "isim = \"OTOMOTİV LİSESİ\"\n",
    "isim.count(\"O\")"
   ]
  },
  {
   "cell_type": "markdown",
   "metadata": {},
   "source": [
    "6-\tad=”Cumhuriyet 100 yaşında” değişkeninde 100 yerine 101 yazdırılmak istenmektedir.\n",
    "    Buna göre bunu sağlayacak kodu yazınız."
   ]
  },
  {
   "cell_type": "code",
   "execution_count": 9,
   "metadata": {},
   "outputs": [
    {
     "name": "stdout",
     "output_type": "stream",
     "text": [
      "Cumhuriyet 101 yaşında\n"
     ]
    }
   ],
   "source": [
    "ad = \"Cumhuriyet 100 yaşında\"\n",
    "yeniAd = ad.replace(\"100\",\"101\")\n",
    "print(yeniAd)"
   ]
  },
  {
   "cell_type": "markdown",
   "metadata": {},
   "source": [
    "7-\tad, soyad, yaş ve yaşadığınız şehri birer değişkene tanımlayarak .format() komutu ile yazdırınız."
   ]
  },
  {
   "cell_type": "code",
   "execution_count": 1,
   "metadata": {},
   "outputs": [
    {
     "name": "stdout",
     "output_type": "stream",
     "text": [
      "Ben Sarp Eymen Şeker, 15 yasindayim ve Bursa'da yasiyorum.\n"
     ]
    }
   ],
   "source": [
    "ad = input(\"Adinizi giriniz: \")\n",
    "soyad = input(\"Soyadinizi giriniz: \")\n",
    "yas = int(input(\"Yasinizi giriniz: \"))\n",
    "sehir = input(\"Sehrinizi giriniz: \")\n",
    "print(\"Ben {} {}, {} yasindayim ve {}'da yasiyorum.\".format(ad,soyad,yas,sehir))"
   ]
  },
  {
   "cell_type": "markdown",
   "metadata": {},
   "source": [
    "8-\tKullanıcıdan isim ve yaş bilgilerini isteyip ehliyet alabilme durumunu kontrol eden Python uygulamasını yapınız.(Ehliyet alabilme koşulu 18 yaşından büyük olmaktır)"
   ]
  },
  {
   "cell_type": "code",
   "execution_count": 4,
   "metadata": {},
   "outputs": [
    {
     "name": "stdout",
     "output_type": "stream",
     "text": [
      "Üzgünüz ehliyet alamazsiniz.\n"
     ]
    }
   ],
   "source": [
    "isim = input(\"Isminizi giriniz: \")\n",
    "yas = int(input(\"Yasinizi giriniz: \"))\n",
    "if yas >= 18:\n",
    "    print(\"Ehliyet alabilirsiniz.\")\n",
    "else :\n",
    "    print(\"Üzgünüz ehliyet alamazsiniz.\")\n"
   ]
  },
  {
   "cell_type": "markdown",
   "metadata": {},
   "source": [
    "9-\tBir kredi kartından 2000 TL üzeri alış veriş yapıldığında 100 TL hediye puan, 1000 TL ve üzeri alış veriş yapıldığında 50 TL hediye puan, 1000 TL’nin altında alış veriş yapıldığında 10 TL hediye puan kazanılmaktadır. Klavyeden girilen harcama tutarına göre hediye puanı yazan problemin Python kodlarını yazınız."
   ]
  },
  {
   "cell_type": "code",
   "execution_count": 5,
   "metadata": {},
   "outputs": [
    {
     "name": "stdout",
     "output_type": "stream",
     "text": [
      "100 TL hediye puan kazandiniz.\n"
     ]
    }
   ],
   "source": [
    "sum = float(input(\"Tutari giriniz.\"))\n",
    "if sum >= 2000: \n",
    "    print(\"100 TL hediye puan kazandiniz.\")\n",
    "elif sum >= 1000:\n",
    "    print(\"50 TL hediye paun kazandiniz.\")\n",
    "else:\n",
    "    print(\"10 TL hediye puan kazandiniz.\")\n",
    "    "
   ]
  },
  {
   "cell_type": "markdown",
   "metadata": {},
   "source": [
    "10-\tTiyatro bileti alırken bilet fiyatı yaşa göre değişmektedir. Yaşı 18’den küçük olanlar için bilet ücreti 15 TL; yaşı 18’den büyük ve 65’ten küçük olanlar için 20 TL ve yaşı 65’ten büyük olanlar için 10 TL olarak belirlenmiştir. Bu durumda tiyatro seyircilerinin yaşlarına göre bilet almalarına olanak sağlayan programın Python kodunu oluşturunuz."
   ]
  },
  {
   "cell_type": "code",
   "execution_count": 12,
   "metadata": {},
   "outputs": [
    {
     "name": "stdout",
     "output_type": "stream",
     "text": [
      "Biletinizin fiyati 15 TL.\n"
     ]
    }
   ],
   "source": [
    "yas = int(input(\"Yasinizi giriniz: \"))\n",
    "if yas >= 65:\n",
    "    print(\"Biletinizin fiyati 10 TL. \")\n",
    "elif yas >=18:\n",
    "    print(\"Biletinizin fiyati 20 TL.\")\n",
    "else: \n",
    "    print(\"Biletinizin fiyati 15 TL.\")"
   ]
  }
 ],
 "metadata": {
  "kernelspec": {
   "display_name": "Python 3",
   "language": "python",
   "name": "python3"
  },
  "language_info": {
   "codemirror_mode": {
    "name": "ipython",
    "version": 3
   },
   "file_extension": ".py",
   "mimetype": "text/x-python",
   "name": "python",
   "nbconvert_exporter": "python",
   "pygments_lexer": "ipython3",
   "version": "3.13.2"
  }
 },
 "nbformat": 4,
 "nbformat_minor": 2
}
